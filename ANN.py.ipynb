{
 "cells": [
  {
   "cell_type": "code",
   "execution_count": 1,
   "id": "20107f47",
   "metadata": {},
   "outputs": [],
   "source": [
    "import tensorflow as tf\n",
    "import numpy as np\n",
    "import pandas as pd"
   ]
  },
  {
   "cell_type": "code",
   "execution_count": 2,
   "id": "41b9124e",
   "metadata": {},
   "outputs": [
    {
     "data": {
      "text/html": [
       "<div>\n",
       "<style scoped>\n",
       "    .dataframe tbody tr th:only-of-type {\n",
       "        vertical-align: middle;\n",
       "    }\n",
       "\n",
       "    .dataframe tbody tr th {\n",
       "        vertical-align: top;\n",
       "    }\n",
       "\n",
       "    .dataframe thead th {\n",
       "        text-align: right;\n",
       "    }\n",
       "</style>\n",
       "<table border=\"1\" class=\"dataframe\">\n",
       "  <thead>\n",
       "    <tr style=\"text-align: right;\">\n",
       "      <th></th>\n",
       "      <th>RowNumber</th>\n",
       "      <th>CustomerId</th>\n",
       "      <th>Surname</th>\n",
       "      <th>CreditScore</th>\n",
       "      <th>Geography</th>\n",
       "      <th>Gender</th>\n",
       "      <th>Age</th>\n",
       "      <th>Tenure</th>\n",
       "      <th>Balance</th>\n",
       "      <th>NumOfProducts</th>\n",
       "      <th>HasCrCard</th>\n",
       "      <th>IsActiveMember</th>\n",
       "      <th>EstimatedSalary</th>\n",
       "      <th>Exited</th>\n",
       "    </tr>\n",
       "  </thead>\n",
       "  <tbody>\n",
       "    <tr>\n",
       "      <th>0</th>\n",
       "      <td>1</td>\n",
       "      <td>15634602</td>\n",
       "      <td>Hargrave</td>\n",
       "      <td>619</td>\n",
       "      <td>France</td>\n",
       "      <td>Female</td>\n",
       "      <td>42</td>\n",
       "      <td>2</td>\n",
       "      <td>0.00</td>\n",
       "      <td>1</td>\n",
       "      <td>1</td>\n",
       "      <td>1</td>\n",
       "      <td>101348.88</td>\n",
       "      <td>1</td>\n",
       "    </tr>\n",
       "    <tr>\n",
       "      <th>1</th>\n",
       "      <td>2</td>\n",
       "      <td>15647311</td>\n",
       "      <td>Hill</td>\n",
       "      <td>608</td>\n",
       "      <td>Spain</td>\n",
       "      <td>Female</td>\n",
       "      <td>41</td>\n",
       "      <td>1</td>\n",
       "      <td>83807.86</td>\n",
       "      <td>1</td>\n",
       "      <td>0</td>\n",
       "      <td>1</td>\n",
       "      <td>112542.58</td>\n",
       "      <td>0</td>\n",
       "    </tr>\n",
       "    <tr>\n",
       "      <th>2</th>\n",
       "      <td>3</td>\n",
       "      <td>15619304</td>\n",
       "      <td>Onio</td>\n",
       "      <td>502</td>\n",
       "      <td>France</td>\n",
       "      <td>Female</td>\n",
       "      <td>42</td>\n",
       "      <td>8</td>\n",
       "      <td>159660.80</td>\n",
       "      <td>3</td>\n",
       "      <td>1</td>\n",
       "      <td>0</td>\n",
       "      <td>113931.57</td>\n",
       "      <td>1</td>\n",
       "    </tr>\n",
       "    <tr>\n",
       "      <th>3</th>\n",
       "      <td>4</td>\n",
       "      <td>15701354</td>\n",
       "      <td>Boni</td>\n",
       "      <td>699</td>\n",
       "      <td>France</td>\n",
       "      <td>Female</td>\n",
       "      <td>39</td>\n",
       "      <td>1</td>\n",
       "      <td>0.00</td>\n",
       "      <td>2</td>\n",
       "      <td>0</td>\n",
       "      <td>0</td>\n",
       "      <td>93826.63</td>\n",
       "      <td>0</td>\n",
       "    </tr>\n",
       "    <tr>\n",
       "      <th>4</th>\n",
       "      <td>5</td>\n",
       "      <td>15737888</td>\n",
       "      <td>Mitchell</td>\n",
       "      <td>850</td>\n",
       "      <td>Spain</td>\n",
       "      <td>Female</td>\n",
       "      <td>43</td>\n",
       "      <td>2</td>\n",
       "      <td>125510.82</td>\n",
       "      <td>1</td>\n",
       "      <td>1</td>\n",
       "      <td>1</td>\n",
       "      <td>79084.10</td>\n",
       "      <td>0</td>\n",
       "    </tr>\n",
       "  </tbody>\n",
       "</table>\n",
       "</div>"
      ],
      "text/plain": [
       "   RowNumber  CustomerId   Surname  CreditScore Geography  Gender  Age  \\\n",
       "0          1    15634602  Hargrave          619    France  Female   42   \n",
       "1          2    15647311      Hill          608     Spain  Female   41   \n",
       "2          3    15619304      Onio          502    France  Female   42   \n",
       "3          4    15701354      Boni          699    France  Female   39   \n",
       "4          5    15737888  Mitchell          850     Spain  Female   43   \n",
       "\n",
       "   Tenure    Balance  NumOfProducts  HasCrCard  IsActiveMember  \\\n",
       "0       2       0.00              1          1               1   \n",
       "1       1   83807.86              1          0               1   \n",
       "2       8  159660.80              3          1               0   \n",
       "3       1       0.00              2          0               0   \n",
       "4       2  125510.82              1          1               1   \n",
       "\n",
       "   EstimatedSalary  Exited  \n",
       "0        101348.88       1  \n",
       "1        112542.58       0  \n",
       "2        113931.57       1  \n",
       "3         93826.63       0  \n",
       "4         79084.10       0  "
      ]
     },
     "execution_count": 2,
     "metadata": {},
     "output_type": "execute_result"
    }
   ],
   "source": [
    "dataset = pd.read_csv('Churn_Modelling.csv')\n",
    "dataset.head()"
   ]
  },
  {
   "cell_type": "code",
   "execution_count": 3,
   "id": "f8341878",
   "metadata": {},
   "outputs": [],
   "source": [
    "X = dataset.iloc[:,3:-1].values\n",
    "Y = dataset.iloc[:,-1].values"
   ]
  },
  {
   "cell_type": "code",
   "execution_count": 4,
   "id": "86e7add8",
   "metadata": {},
   "outputs": [
    {
     "name": "stdout",
     "output_type": "stream",
     "text": [
      "[[619 'France' 'Female' ... 1 1 101348.88]\n",
      " [608 'Spain' 'Female' ... 0 1 112542.58]\n",
      " [502 'France' 'Female' ... 1 0 113931.57]\n",
      " ...\n",
      " [709 'France' 'Female' ... 0 1 42085.58]\n",
      " [772 'Germany' 'Male' ... 1 0 92888.52]\n",
      " [792 'France' 'Female' ... 1 0 38190.78]]\n"
     ]
    }
   ],
   "source": [
    "print(X)"
   ]
  },
  {
   "cell_type": "code",
   "execution_count": 5,
   "id": "06799fc0",
   "metadata": {},
   "outputs": [
    {
     "data": {
      "text/plain": [
       "(10000, 10)"
      ]
     },
     "execution_count": 5,
     "metadata": {},
     "output_type": "execute_result"
    }
   ],
   "source": [
    "X.shape"
   ]
  },
  {
   "cell_type": "code",
   "execution_count": 6,
   "id": "5eaf7e13",
   "metadata": {},
   "outputs": [
    {
     "name": "stdout",
     "output_type": "stream",
     "text": [
      "[1 0 1 ... 1 1 0]\n"
     ]
    }
   ],
   "source": [
    "print(Y)"
   ]
  },
  {
   "cell_type": "code",
   "execution_count": 7,
   "id": "2d24f791",
   "metadata": {},
   "outputs": [
    {
     "data": {
      "text/plain": [
       "(10000,)"
      ]
     },
     "execution_count": 7,
     "metadata": {},
     "output_type": "execute_result"
    }
   ],
   "source": [
    "Y.shape"
   ]
  },
  {
   "cell_type": "code",
   "execution_count": 8,
   "id": "9c2a9527",
   "metadata": {},
   "outputs": [
    {
     "name": "stdout",
     "output_type": "stream",
     "text": [
      "[[1.0 0.0 0.0 ... 1 1 101348.88]\n",
      " [0.0 0.0 1.0 ... 0 1 112542.58]\n",
      " [1.0 0.0 0.0 ... 1 0 113931.57]\n",
      " ...\n",
      " [1.0 0.0 0.0 ... 0 1 42085.58]\n",
      " [0.0 1.0 0.0 ... 1 0 92888.52]\n",
      " [1.0 0.0 0.0 ... 1 0 38190.78]]\n"
     ]
    }
   ],
   "source": [
    "from sklearn.compose import ColumnTransformer\n",
    "from sklearn.preprocessing import OneHotEncoder\n",
    "ct = ColumnTransformer(transformers=[('encoder', OneHotEncoder(), [1,2])], remainder='passthrough')\n",
    "X = np.array(ct.fit_transform(X))\n",
    "print(X)"
   ]
  },
  {
   "cell_type": "code",
   "execution_count": 9,
   "id": "3744b8f0",
   "metadata": {},
   "outputs": [
    {
     "name": "stdout",
     "output_type": "stream",
     "text": [
      "[0.0 0.0 0.0 ... 0.0 1.0 0.0]\n"
     ]
    }
   ],
   "source": [
    "print(X[:,4])"
   ]
  },
  {
   "cell_type": "code",
   "execution_count": 10,
   "id": "8ee65dec",
   "metadata": {},
   "outputs": [
    {
     "data": {
      "text/plain": [
       "(10000, 13)"
      ]
     },
     "execution_count": 10,
     "metadata": {},
     "output_type": "execute_result"
    }
   ],
   "source": [
    "from sklearn.model_selection import train_test_split\n",
    "X_train, X_test, Y_train, Y_test = train_test_split(X,Y, test_size=0.2, random_state = 0)\n",
    "X.shape"
   ]
  },
  {
   "cell_type": "markdown",
   "id": "eae62b77",
   "metadata": {},
   "source": [
    "# feature scaling"
   ]
  },
  {
   "cell_type": "code",
   "execution_count": 11,
   "id": "99285020",
   "metadata": {},
   "outputs": [],
   "source": [
    "from sklearn.preprocessing import StandardScaler\n",
    "sc = StandardScaler()\n",
    "X_train = sc.fit_transform(X_train)\n",
    "X_test = sc.fit_transform(X_test)"
   ]
  },
  {
   "cell_type": "markdown",
   "id": "d97aee95",
   "metadata": {},
   "source": [
    "# importing keras libraries"
   ]
  },
  {
   "cell_type": "code",
   "execution_count": 12,
   "id": "f8e51b02",
   "metadata": {},
   "outputs": [],
   "source": [
    "from tensorflow import keras\n",
    "from tensorflow.keras.models import Sequential\n",
    "from tensorflow.keras.layers import Dense"
   ]
  },
  {
   "cell_type": "markdown",
   "id": "16b02fd9",
   "metadata": {},
   "source": [
    "# initializing ANN"
   ]
  },
  {
   "cell_type": "code",
   "execution_count": 13,
   "id": "fa122143",
   "metadata": {},
   "outputs": [],
   "source": [
    "classifier = Sequential()\n",
    " "
   ]
  },
  {
   "cell_type": "markdown",
   "id": "1b24c588",
   "metadata": {},
   "source": [
    "# adding input layer to the first hidden layer"
   ]
  },
  {
   "cell_type": "code",
   "execution_count": 14,
   "id": "98e0ae7c",
   "metadata": {},
   "outputs": [],
   "source": [
    "classifier.add(Dense(7,kernel_initializer = 'glorot_uniform', activation = 'relu', input_dim=13))"
   ]
  },
  {
   "cell_type": "markdown",
   "id": "dd1a98cc",
   "metadata": {},
   "source": [
    "# adding second hidden layer"
   ]
  },
  {
   "cell_type": "code",
   "execution_count": 15,
   "id": "843787d7",
   "metadata": {},
   "outputs": [],
   "source": [
    "classifier.add(Dense(7,kernel_initializer = 'glorot_uniform', activation = 'relu'))"
   ]
  },
  {
   "cell_type": "markdown",
   "id": "1f1d4c89",
   "metadata": {},
   "source": [
    "# Adding output layer"
   ]
  },
  {
   "cell_type": "code",
   "execution_count": 16,
   "id": "8bf9705f",
   "metadata": {},
   "outputs": [],
   "source": [
    "classifier.add(Dense(1,kernel_initializer = 'glorot_uniform', activation = 'sigmoid'))"
   ]
  },
  {
   "cell_type": "markdown",
   "id": "d74456c5",
   "metadata": {},
   "source": [
    "# Compiling the ANN"
   ]
  },
  {
   "cell_type": "code",
   "execution_count": 17,
   "id": "e1d4d04f",
   "metadata": {},
   "outputs": [],
   "source": [
    "classifier.compile(optimizer = 'adam', loss = 'binary_crossentropy', metrics=['accuracy'])"
   ]
  },
  {
   "cell_type": "markdown",
   "id": "dd1946c9",
   "metadata": {},
   "source": [
    "# fitting ANN to the training set"
   ]
  },
  {
   "cell_type": "code",
   "execution_count": 18,
   "id": "90226e49",
   "metadata": {},
   "outputs": [
    {
     "name": "stdout",
     "output_type": "stream",
     "text": [
      "Train on 8000 samples\n",
      "Epoch 1/100\n",
      "8000/8000 [==============================] - 4s 541us/sample - loss: 0.5034 - accuracy: 0.7741\n",
      "Epoch 2/100\n",
      "8000/8000 [==============================] - 2s 311us/sample - loss: 0.4343 - accuracy: 0.8066\n",
      "Epoch 3/100\n",
      "8000/8000 [==============================] - 2s 301us/sample - loss: 0.4192 - accuracy: 0.8177\n",
      "Epoch 4/100\n",
      "8000/8000 [==============================] - 2s 301us/sample - loss: 0.4082 - accuracy: 0.8270\n",
      "Epoch 5/100\n",
      "8000/8000 [==============================] - 3s 348us/sample - loss: 0.3975 - accuracy: 0.8321\n",
      "Epoch 6/100\n",
      "8000/8000 [==============================] - 3s 327us/sample - loss: 0.3878 - accuracy: 0.8353\n",
      "Epoch 7/100\n",
      "8000/8000 [==============================] - 3s 314us/sample - loss: 0.3783 - accuracy: 0.8413\n",
      "Epoch 8/100\n",
      "8000/8000 [==============================] - 2s 297us/sample - loss: 0.3703 - accuracy: 0.8451\n",
      "Epoch 9/100\n",
      "8000/8000 [==============================] - 3s 317us/sample - loss: 0.3627 - accuracy: 0.8514\n",
      "Epoch 10/100\n",
      "8000/8000 [==============================] - 3s 329us/sample - loss: 0.3579 - accuracy: 0.8512\n",
      "Epoch 11/100\n",
      "8000/8000 [==============================] - 3s 342us/sample - loss: 0.3542 - accuracy: 0.8547\n",
      "Epoch 12/100\n",
      "8000/8000 [==============================] - 3s 369us/sample - loss: 0.3508 - accuracy: 0.8568\n",
      "Epoch 13/100\n",
      "8000/8000 [==============================] - 3s 381us/sample - loss: 0.3494 - accuracy: 0.8575\n",
      "Epoch 14/100\n",
      "8000/8000 [==============================] - 3s 426us/sample - loss: 0.3462 - accuracy: 0.8590\n",
      "Epoch 15/100\n",
      "8000/8000 [==============================] - 3s 378us/sample - loss: 0.3455 - accuracy: 0.8601\n",
      "Epoch 16/100\n",
      "8000/8000 [==============================] - 3s 427us/sample - loss: 0.3438 - accuracy: 0.8600\n",
      "Epoch 17/100\n",
      "8000/8000 [==============================] - 3s 432us/sample - loss: 0.3426 - accuracy: 0.8597\n",
      "Epoch 18/100\n",
      "8000/8000 [==============================] - 3s 429us/sample - loss: 0.3420 - accuracy: 0.8597\n",
      "Epoch 19/100\n",
      "8000/8000 [==============================] - 3s 432us/sample - loss: 0.3412 - accuracy: 0.8633\n",
      "Epoch 20/100\n",
      "8000/8000 [==============================] - 3s 362us/sample - loss: 0.3398 - accuracy: 0.8612\n",
      "Epoch 21/100\n",
      "8000/8000 [==============================] - 4s 446us/sample - loss: 0.3397 - accuracy: 0.8622\n",
      "Epoch 22/100\n",
      "8000/8000 [==============================] - 3s 372us/sample - loss: 0.3388 - accuracy: 0.8655\n",
      "Epoch 23/100\n",
      "8000/8000 [==============================] - 3s 349us/sample - loss: 0.3389 - accuracy: 0.8620\n",
      "Epoch 24/100\n",
      "8000/8000 [==============================] - 3s 331us/sample - loss: 0.3381 - accuracy: 0.8627\n",
      "Epoch 25/100\n",
      "8000/8000 [==============================] - 2s 301us/sample - loss: 0.3386 - accuracy: 0.8616\n",
      "Epoch 26/100\n",
      "8000/8000 [==============================] - 2s 299us/sample - loss: 0.3377 - accuracy: 0.8612\n",
      "Epoch 27/100\n",
      "8000/8000 [==============================] - 2s 299us/sample - loss: 0.3385 - accuracy: 0.8611\n",
      "Epoch 28/100\n",
      "8000/8000 [==============================] - 2s 307us/sample - loss: 0.3376 - accuracy: 0.8618\n",
      "Epoch 29/100\n",
      "8000/8000 [==============================] - 2s 299us/sample - loss: 0.3375 - accuracy: 0.8611\n",
      "Epoch 30/100\n",
      "8000/8000 [==============================] - 2s 279us/sample - loss: 0.3370 - accuracy: 0.8610\n",
      "Epoch 31/100\n",
      "8000/8000 [==============================] - 2s 294us/sample - loss: 0.3362 - accuracy: 0.8619\n",
      "Epoch 32/100\n",
      "8000/8000 [==============================] - 2s 289us/sample - loss: 0.3371 - accuracy: 0.8629\n",
      "Epoch 33/100\n",
      "8000/8000 [==============================] - 2s 288us/sample - loss: 0.3364 - accuracy: 0.8629\n",
      "Epoch 34/100\n",
      "8000/8000 [==============================] - 2s 275us/sample - loss: 0.3353 - accuracy: 0.8622\n",
      "Epoch 35/100\n",
      "8000/8000 [==============================] - 2s 268us/sample - loss: 0.3356 - accuracy: 0.8618\n",
      "Epoch 36/100\n",
      "8000/8000 [==============================] - 2s 288us/sample - loss: 0.3360 - accuracy: 0.8609\n",
      "Epoch 37/100\n",
      "8000/8000 [==============================] - 2s 286us/sample - loss: 0.3355 - accuracy: 0.8616\n",
      "Epoch 38/100\n",
      "8000/8000 [==============================] - 2s 256us/sample - loss: 0.3355 - accuracy: 0.8604\n",
      "Epoch 39/100\n",
      "8000/8000 [==============================] - 2s 278us/sample - loss: 0.3350 - accuracy: 0.8618\n",
      "Epoch 40/100\n",
      "8000/8000 [==============================] - 3s 368us/sample - loss: 0.3348 - accuracy: 0.8595\n",
      "Epoch 41/100\n",
      "8000/8000 [==============================] - 3s 370us/sample - loss: 0.3353 - accuracy: 0.8605\n",
      "Epoch 42/100\n",
      "8000/8000 [==============================] - 3s 396us/sample - loss: 0.3341 - accuracy: 0.8630\n",
      "Epoch 43/100\n",
      "8000/8000 [==============================] - 3s 366us/sample - loss: 0.3349 - accuracy: 0.8602\n",
      "Epoch 44/100\n",
      "8000/8000 [==============================] - 3s 368us/sample - loss: 0.3340 - accuracy: 0.8625\n",
      "Epoch 45/100\n",
      "8000/8000 [==============================] - 4s 518us/sample - loss: 0.3341 - accuracy: 0.8631\n",
      "Epoch 46/100\n",
      "8000/8000 [==============================] - 4s 513us/sample - loss: 0.3339 - accuracy: 0.8611\n",
      "Epoch 47/100\n",
      "8000/8000 [==============================] - 4s 480us/sample - loss: 0.3342 - accuracy: 0.8610\n",
      "Epoch 48/100\n",
      "8000/8000 [==============================] - 3s 430us/sample - loss: 0.3333 - accuracy: 0.8625\n",
      "Epoch 49/100\n",
      "8000/8000 [==============================] - 3s 430us/sample - loss: 0.3338 - accuracy: 0.8621\n",
      "Epoch 50/100\n",
      "8000/8000 [==============================] - 3s 432us/sample - loss: 0.3338 - accuracy: 0.8634\n",
      "Epoch 51/100\n",
      "8000/8000 [==============================] - 3s 426us/sample - loss: 0.3330 - accuracy: 0.8624\n",
      "Epoch 52/100\n",
      "8000/8000 [==============================] - 3s 427us/sample - loss: 0.3339 - accuracy: 0.8600\n",
      "Epoch 53/100\n",
      "8000/8000 [==============================] - 3s 436us/sample - loss: 0.3328 - accuracy: 0.8633\n",
      "Epoch 54/100\n",
      "8000/8000 [==============================] - 3s 427us/sample - loss: 0.3329 - accuracy: 0.8635\n",
      "Epoch 55/100\n",
      "8000/8000 [==============================] - 3s 427us/sample - loss: 0.3327 - accuracy: 0.8645\n",
      "Epoch 56/100\n",
      "8000/8000 [==============================] - 3s 366us/sample - loss: 0.3330 - accuracy: 0.8619\n",
      "Epoch 57/100\n",
      "8000/8000 [==============================] - 2s 292us/sample - loss: 0.3324 - accuracy: 0.8633\n",
      "Epoch 58/100\n",
      "8000/8000 [==============================] - 3s 328us/sample - loss: 0.3331 - accuracy: 0.8619\n",
      "Epoch 59/100\n",
      "8000/8000 [==============================] - 2s 273us/sample - loss: 0.3322 - accuracy: 0.8620\n",
      "Epoch 60/100\n",
      "8000/8000 [==============================] - 2s 291us/sample - loss: 0.3323 - accuracy: 0.8654\n",
      "Epoch 61/100\n",
      "8000/8000 [==============================] - 2s 293us/sample - loss: 0.3323 - accuracy: 0.8621\n",
      "Epoch 62/100\n",
      "8000/8000 [==============================] - 2s 290us/sample - loss: 0.3318 - accuracy: 0.8626\n",
      "Epoch 63/100\n",
      "8000/8000 [==============================] - 2s 290us/sample - loss: 0.3317 - accuracy: 0.8631\n",
      "Epoch 64/100\n",
      "8000/8000 [==============================] - 2s 296us/sample - loss: 0.3324 - accuracy: 0.8641\n",
      "Epoch 65/100\n",
      "8000/8000 [==============================] - 2s 304us/sample - loss: 0.3321 - accuracy: 0.8635\n",
      "Epoch 66/100\n",
      "8000/8000 [==============================] - 3s 430us/sample - loss: 0.3324 - accuracy: 0.8614\n",
      "Epoch 67/100\n",
      "8000/8000 [==============================] - 3s 424us/sample - loss: 0.3312 - accuracy: 0.8639\n",
      "Epoch 68/100\n",
      "8000/8000 [==============================] - 4s 441us/sample - loss: 0.3326 - accuracy: 0.8640\n",
      "Epoch 69/100\n",
      "8000/8000 [==============================] - 3s 428us/sample - loss: 0.3312 - accuracy: 0.8644\n",
      "Epoch 70/100\n",
      "8000/8000 [==============================] - 3s 429us/sample - loss: 0.3318 - accuracy: 0.8651\n",
      "Epoch 71/100\n",
      "8000/8000 [==============================] - 3s 430us/sample - loss: 0.3310 - accuracy: 0.8639\n",
      "Epoch 72/100\n",
      "8000/8000 [==============================] - 3s 397us/sample - loss: 0.3313 - accuracy: 0.8641\n",
      "Epoch 73/100\n",
      "8000/8000 [==============================] - 3s 384us/sample - loss: 0.3313 - accuracy: 0.8648\n",
      "Epoch 74/100\n",
      "8000/8000 [==============================] - 4s 458us/sample - loss: 0.3309 - accuracy: 0.8636\n",
      "Epoch 75/100\n",
      "8000/8000 [==============================] - 4s 440us/sample - loss: 0.3312 - accuracy: 0.8639\n",
      "Epoch 76/100\n",
      "8000/8000 [==============================] - 3s 375us/sample - loss: 0.3312 - accuracy: 0.8631\n",
      "Epoch 77/100\n",
      "8000/8000 [==============================] - 2s 277us/sample - loss: 0.3309 - accuracy: 0.8651\n",
      "Epoch 78/100\n",
      "8000/8000 [==============================] - 2s 264us/sample - loss: 0.3308 - accuracy: 0.8630\n",
      "Epoch 79/100\n",
      "8000/8000 [==============================] - 2s 268us/sample - loss: 0.3311 - accuracy: 0.8630\n",
      "Epoch 80/100\n",
      "8000/8000 [==============================] - 2s 266us/sample - loss: 0.3316 - accuracy: 0.8635\n",
      "Epoch 81/100\n",
      "8000/8000 [==============================] - 2s 261us/sample - loss: 0.3306 - accuracy: 0.8627\n",
      "Epoch 82/100\n",
      "8000/8000 [==============================] - 2s 265us/sample - loss: 0.3315 - accuracy: 0.8661\n",
      "Epoch 83/100\n",
      "8000/8000 [==============================] - 2s 265us/sample - loss: 0.3310 - accuracy: 0.8641\n",
      "Epoch 84/100\n",
      "8000/8000 [==============================] - 3s 313us/sample - loss: 0.3310 - accuracy: 0.8637\n",
      "Epoch 85/100\n",
      "8000/8000 [==============================] - 3s 397us/sample - loss: 0.3313 - accuracy: 0.8631\n",
      "Epoch 86/100\n",
      "8000/8000 [==============================] - 3s 431us/sample - loss: 0.3306 - accuracy: 0.8625\n",
      "Epoch 87/100\n",
      "8000/8000 [==============================] - 3s 429us/sample - loss: 0.3308 - accuracy: 0.8637\n",
      "Epoch 88/100\n",
      "8000/8000 [==============================] - 3s 416us/sample - loss: 0.3305 - accuracy: 0.8658\n",
      "Epoch 89/100\n",
      "8000/8000 [==============================] - 3s 430us/sample - loss: 0.3306 - accuracy: 0.8641\n",
      "Epoch 90/100\n",
      "8000/8000 [==============================] - 3s 363us/sample - loss: 0.3299 - accuracy: 0.8641\n",
      "Epoch 91/100\n",
      "8000/8000 [==============================] - 2s 267us/sample - loss: 0.3307 - accuracy: 0.8634\n",
      "Epoch 92/100\n",
      "8000/8000 [==============================] - 2s 196us/sample - loss: 0.3302 - accuracy: 0.8644\n",
      "Epoch 93/100\n",
      "8000/8000 [==============================] - 2s 206us/sample - loss: 0.3301 - accuracy: 0.8637\n",
      "Epoch 94/100\n",
      "8000/8000 [==============================] - 2s 208us/sample - loss: 0.3304 - accuracy: 0.8664\n",
      "Epoch 95/100\n",
      "8000/8000 [==============================] - 1s 177us/sample - loss: 0.3297 - accuracy: 0.8639\n",
      "Epoch 96/100\n",
      "8000/8000 [==============================] - 2s 212us/sample - loss: 0.3307 - accuracy: 0.8640\n",
      "Epoch 97/100\n",
      "8000/8000 [==============================] - 2s 207us/sample - loss: 0.3298 - accuracy: 0.8659\n",
      "Epoch 98/100\n",
      "8000/8000 [==============================] - 2s 237us/sample - loss: 0.3299 - accuracy: 0.8646\n",
      "Epoch 99/100\n",
      "8000/8000 [==============================] - 2s 252us/sample - loss: 0.3304 - accuracy: 0.8635\n",
      "Epoch 100/100\n",
      "8000/8000 [==============================] - 2s 244us/sample - loss: 0.3301 - accuracy: 0.8649\n"
     ]
    },
    {
     "data": {
      "text/plain": [
       "<tensorflow.python.keras.callbacks.History at 0x25465db94e0>"
      ]
     },
     "execution_count": 18,
     "metadata": {},
     "output_type": "execute_result"
    }
   ],
   "source": [
    "classifier.fit(X_train,Y_train,batch_size= 10, epochs=100)"
   ]
  },
  {
   "cell_type": "code",
   "execution_count": 22,
   "id": "377db767",
   "metadata": {},
   "outputs": [
    {
     "name": "stdout",
     "output_type": "stream",
     "text": [
      "[[0.2217124 ]\n",
      " [0.26129085]\n",
      " [0.23347065]\n",
      " ...\n",
      " [0.15975626]\n",
      " [0.12311415]\n",
      " [0.18117413]]\n"
     ]
    }
   ],
   "source": [
    "y_pred =  classifier.predict(X_test)\n",
    "print(y_pred)"
   ]
  },
  {
   "cell_type": "code",
   "execution_count": 24,
   "id": "8a44010a",
   "metadata": {},
   "outputs": [
    {
     "name": "stdout",
     "output_type": "stream",
     "text": [
      "[[False]\n",
      " [False]\n",
      " [False]\n",
      " ...\n",
      " [False]\n",
      " [False]\n",
      " [False]]\n"
     ]
    }
   ],
   "source": [
    "y_pred = (y_pred>0.5)\n",
    "print(y_pred)"
   ]
  },
  {
   "cell_type": "code",
   "execution_count": 26,
   "id": "8d0c50e4",
   "metadata": {},
   "outputs": [
    {
     "data": {
      "text/plain": [
       "(2000, 1)"
      ]
     },
     "execution_count": 26,
     "metadata": {},
     "output_type": "execute_result"
    }
   ],
   "source": [
    "y_pred.shape"
   ]
  },
  {
   "cell_type": "code",
   "execution_count": 34,
   "id": "648caa16",
   "metadata": {},
   "outputs": [
    {
     "name": "stdout",
     "output_type": "stream",
     "text": [
      "[False]\n"
     ]
    }
   ],
   "source": [
    "print(y_pred[7])"
   ]
  },
  {
   "cell_type": "code",
   "execution_count": 36,
   "id": "196ef6a1",
   "metadata": {},
   "outputs": [],
   "source": [
    "np.set_printoptions(threshold=np.inf)"
   ]
  },
  {
   "cell_type": "code",
   "execution_count": 39,
   "id": "5d3bdf7d",
   "metadata": {},
   "outputs": [],
   "source": [
    "from sklearn.metrics import confusion_matrix"
   ]
  },
  {
   "cell_type": "code",
   "execution_count": 41,
   "id": "c3b40a22",
   "metadata": {},
   "outputs": [
    {
     "name": "stdout",
     "output_type": "stream",
     "text": [
      "[[1543   52]\n",
      " [ 218  187]]\n"
     ]
    }
   ],
   "source": [
    "cm=confusion_matrix(Y_test, y_pred)\n",
    "print(cm)"
   ]
  },
  {
   "cell_type": "code",
   "execution_count": 42,
   "id": "b58365db",
   "metadata": {},
   "outputs": [
    {
     "data": {
      "text/plain": [
       "0.865"
      ]
     },
     "execution_count": 42,
     "metadata": {},
     "output_type": "execute_result"
    }
   ],
   "source": [
    "(1543+187)/2000"
   ]
  },
  {
   "cell_type": "code",
   "execution_count": null,
   "id": "9c7f52ab",
   "metadata": {},
   "outputs": [],
   "source": []
  }
 ],
 "metadata": {
  "kernelspec": {
   "display_name": "Python 3 (ipykernel)",
   "language": "python",
   "name": "python3"
  },
  "language_info": {
   "codemirror_mode": {
    "name": "ipython",
    "version": 3
   },
   "file_extension": ".py",
   "mimetype": "text/x-python",
   "name": "python",
   "nbconvert_exporter": "python",
   "pygments_lexer": "ipython3",
   "version": "3.8.15"
  }
 },
 "nbformat": 4,
 "nbformat_minor": 5
}
